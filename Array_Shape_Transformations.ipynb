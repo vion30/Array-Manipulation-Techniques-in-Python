{
 "cells": [
  {
   "cell_type": "code",
   "execution_count": null,
   "id": "7e07540a-e110-4ffa-a1ee-8640a3df9d90",
   "metadata": {},
   "outputs": [],
   "source": [
    "import numpy as np\n",
    "arr = np.arange(21,26)\n",
    "print(arr[3])\n",
    "print(arr[-5]) # normal indexing "
   ]
  },
  {
   "cell_type": "code",
   "execution_count": null,
   "id": "6dd8ee9f-a903-4176-b3bc-ae3b13e1347c",
   "metadata": {},
   "outputs": [],
   "source": [
    "import numpy as np\n",
    "# how to index 2d array elements \n",
    "arr = np.array([[1,2,3,4,5], [6,7,8,9,10]])\n",
    "print('2nd element on 1st row: ', arr[0, 1])\n",
    "\n",
    "arr = np.arange(21,30).reshape((3,3))\n",
    "print(arr[1,2])"
   ]
  },
  {
   "cell_type": "code",
   "execution_count": null,
   "id": "1ba5de2e-f288-48bd-94e5-64aeaf6c9d3b",
   "metadata": {},
   "outputs": [],
   "source": [
    "# fancy indexing\n",
    "arr = np.array([3,78,23,14,5,6,8,79,100])\n",
    "index = np.array([[1,2],[3,4]])\n",
    "print(arr[index])"
   ]
  },
  {
   "cell_type": "code",
   "execution_count": null,
   "id": "1fbd15ea-1313-4dc1-ba7e-e9fe03b5cd17",
   "metadata": {},
   "outputs": [],
   "source": [
    "# slicing \n",
    "arr = np.arange(0,20)\n",
    "slice_object = slice(1,10,2)\n",
    "print(arr[slice_object])"
   ]
  },
  {
   "cell_type": "code",
   "execution_count": null,
   "id": "0bf520a6-635e-4abc-9ce8-94821da26d09",
   "metadata": {},
   "outputs": [],
   "source": [
    "for x in arr:\n",
    "    print(x)\n"
   ]
  },
  {
   "cell_type": "code",
   "execution_count": null,
   "id": "b2e669d8-d216-43d9-b30d-1908753f9b05",
   "metadata": {},
   "outputs": [],
   "source": [
    "# using nditer \n",
    "# To modify the elements of an array in-place, you need to set the op_flags parameter to ['readwrite']:\n",
    "arr = np.array([[1, 2, 3], [4, 5, 6]])\n",
    "print(\"The original array \\n\",arr)\n",
    "for element in np.nditer(arr, op_flags=['readwrite']):\n",
    "    element[...] = element * 2\n",
    "    print(element)\n",
    "print(\"the modified array \\n\",arr)\n"
   ]
  },
  {
   "cell_type": "code",
   "execution_count": null,
   "id": "c406423c-4dee-444f-8de2-745567700166",
   "metadata": {},
   "outputs": [],
   "source": [
    "\n",
    "# You can control the order of iteration using the order parameter. For example, you can iterate in 'C' (row-major) or 'F' (column-major) order:\n",
    "arr = np.array([[1, 2, 3], [4, 5, 6]])\n",
    "\n",
    "print(\"C order:\")\n",
    "for element in np.nditer(arr, order='C'): # c language \n",
    "    print(element, end=' ')\n",
    "    \n",
    "print(\"\\nF order:\")\n",
    "for element in np.nditer(arr, order='F'): # fortan language\n",
    "    print(element, end=' ')"
   ]
  },
  {
   "cell_type": "code",
   "execution_count": null,
   "id": "4f54a8aa-985c-4051-ba73-f9be5d5874e1",
   "metadata": {},
   "outputs": [],
   "source": [
    "# You can iterate over arrays with broadcasting\n",
    "a = np.array([1, 2, 3])\n",
    "b = np.array([[10], [20], [30]])\n",
    "print(a.shape)\n",
    "print(b.shape)\n",
    "for x, y in np.nditer([a, b]):\n",
    "    print(x, y)"
   ]
  },
  {
   "cell_type": "code",
   "execution_count": null,
   "id": "75736c42-aacf-4828-8899-eef85a3e81d3",
   "metadata": {},
   "outputs": [],
   "source": [
    "# multi index \n",
    "arr = np.array([[1, 2, 3], [4, 5, 6]])\n",
    "\n",
    "it = np.nditer(arr, flags=['multi_index'])\n",
    "while not it.finished:\n",
    "    print(f\"Index: {it.multi_index}, Value: {it[0]}\")\n",
    "    it.iternext()"
   ]
  },
  {
   "cell_type": "code",
   "execution_count": 35,
   "id": "fd87b36a-a4a1-411c-b6fb-d464c3477b6d",
   "metadata": {},
   "outputs": [
    {
     "name": "stdout",
     "output_type": "stream",
     "text": [
      "[[1 2]\n",
      " [3 4]]\n",
      "[5 6]\n",
      "[1 2 3 4 5 6]\n"
     ]
    }
   ],
   "source": [
    "#joining arrays\n",
    "a = np.array([[1,2],[3,4]])\n",
    "print (a)\n",
    "b = np.array([5,6])\n",
    "print(b)\n",
    "c = np.concatenate((a,b), axis = None)\n",
    "print(c)"
   ]
  },
  {
   "cell_type": "code",
   "execution_count": 36,
   "id": "52bc6f71-5604-48bc-9604-b34e29b40ae2",
   "metadata": {},
   "outputs": [
    {
     "name": "stdout",
     "output_type": "stream",
     "text": [
      "[[1 2]\n",
      " [3 4]]\n",
      "[[3]\n",
      " [4]]\n",
      "(2, 1)\n"
     ]
    },
    {
     "data": {
      "text/plain": [
       "array([[1, 2, 3],\n",
       "       [3, 4, 4]])"
      ]
     },
     "execution_count": 36,
     "metadata": {},
     "output_type": "execute_result"
    }
   ],
   "source": [
    "a = np.array([[1,2],[3,4]])\n",
    "b = np.array([[3],[4]])\n",
    "print(a); print(b)\n",
    "print(b.shape)\n",
    "np.concatenate((a,b), axis = 1) # number of rows = same."
   ]
  },
  {
   "cell_type": "code",
   "execution_count": 30,
   "id": "705f8e42-4aa7-4a94-8104-92d141f727fe",
   "metadata": {},
   "outputs": [
    {
     "name": "stdout",
     "output_type": "stream",
     "text": [
      "[[1 2]\n",
      " [3 4]]\n"
     ]
    },
    {
     "ename": "ValueError",
     "evalue": "all the input arrays must have same number of dimensions, but the array at index 0 has 2 dimension(s) and the array at index 1 has 1 dimension(s)",
     "output_type": "error",
     "traceback": [
      "\u001b[1;31m---------------------------------------------------------------------------\u001b[0m",
      "\u001b[1;31mValueError\u001b[0m                                Traceback (most recent call last)",
      "Cell \u001b[1;32mIn[30], line 4\u001b[0m\n\u001b[0;32m      2\u001b[0m \u001b[38;5;28mprint\u001b[39m (a)\n\u001b[0;32m      3\u001b[0m b \u001b[38;5;241m=\u001b[39m np\u001b[38;5;241m.\u001b[39marray([\u001b[38;5;241m5\u001b[39m,\u001b[38;5;241m6\u001b[39m])\n\u001b[1;32m----> 4\u001b[0m np\u001b[38;5;241m.\u001b[39mconcatenate((a,b\u001b[38;5;241m.\u001b[39mT), axis \u001b[38;5;241m=\u001b[39m \u001b[38;5;241m1\u001b[39m)\n",
      "\u001b[1;31mValueError\u001b[0m: all the input arrays must have same number of dimensions, but the array at index 0 has 2 dimension(s) and the array at index 1 has 1 dimension(s)"
     ]
    }
   ],
   "source": [
    "a = np.array([[1,2],[3,4]])\n",
    "print (a)\n",
    "b = np.array([5,6])\n",
    "np.concatenate((a,b.T), axis = 1)"
   ]
  },
  {
   "cell_type": "code",
   "execution_count": 31,
   "id": "9b9a3a19-e5ea-40ca-b774-856131b64bc2",
   "metadata": {},
   "outputs": [
    {
     "name": "stdout",
     "output_type": "stream",
     "text": [
      "[5 6]\n",
      "(2,)\n",
      "[5 6]\n"
     ]
    }
   ],
   "source": [
    "b = np.array([5,6]) # row vector\n",
    "print(b); print (b.shape)\n",
    "print (np.transpose(b))\n"
   ]
  },
  {
   "cell_type": "code",
   "execution_count": 33,
   "id": "a9836e06-c07b-4b5b-b252-b18ff6ab3933",
   "metadata": {},
   "outputs": [
    {
     "name": "stdout",
     "output_type": "stream",
     "text": [
      "[[5 6]]\n",
      "(1, 2)\n",
      "[[5]\n",
      " [6]]\n",
      "[[1 2 5]\n",
      " [3 4 6]]\n"
     ]
    }
   ],
   "source": [
    "import numpy as np\n",
    "\n",
    "a = np.array([[1, 2], [3, 4]])\n",
    "b = np.array([5, 6]).reshape(1, -1)\n",
    "print(b)\n",
    "print(b.shape)\n",
    "print(b.T)\n",
    "result = np.concatenate((a, b.T), axis=1)  # for axis = 0, number of columns should be equal.\n",
    "print(result)\n"
   ]
  },
  {
   "cell_type": "code",
   "execution_count": 34,
   "id": "7839fae4-8da7-4ecc-9260-221ac6802839",
   "metadata": {},
   "outputs": [
    {
     "name": "stdout",
     "output_type": "stream",
     "text": [
      "[[5]\n",
      " [6]]\n",
      "[[1 2 5]\n",
      " [3 4 6]]\n"
     ]
    }
   ],
   "source": [
    "import numpy as np\n",
    "\n",
    "a = np.array([[1, 2], [3, 4]])\n",
    "b = np.array([5, 6]).reshape(-1, 1)\n",
    "print (b)\n",
    "result = np.concatenate((a, b), axis=1)  # number of rows should be equal \n",
    "print(result)"
   ]
  },
  {
   "cell_type": "code",
   "execution_count": null,
   "id": "0dda8806-8bdc-49e9-b740-85af546ee160",
   "metadata": {},
   "outputs": [],
   "source": [
    "a = np.array([1,2,3])\n",
    "b = np.array([2,3,4])\n",
    "np.stack((a,b))"
   ]
  },
  {
   "cell_type": "code",
   "execution_count": null,
   "id": "be94590c-ee94-4777-8fe9-82e1c132964c",
   "metadata": {},
   "outputs": [],
   "source": [
    "a = np.array([1,2,3])\n",
    "b = np.array([4,5,6])\n",
    "c = np.array([7,8,9])\n",
    "np.column_stack((a,b,c))"
   ]
  },
  {
   "cell_type": "code",
   "execution_count": null,
   "id": "1d88280a-3412-44cf-b2c7-52ad07f8a5a5",
   "metadata": {},
   "outputs": [],
   "source": [
    "a = np.array([1,2,3])\n",
    "b = np.array([3,4,5])\n",
    "np.hstack((a,b))"
   ]
  },
  {
   "cell_type": "code",
   "execution_count": null,
   "id": "a4bcbf30-7516-4164-8575-ccb1eaaa5626",
   "metadata": {},
   "outputs": [],
   "source": [
    "np.vstack((a,b))"
   ]
  },
  {
   "cell_type": "code",
   "execution_count": null,
   "id": "c2899886-9863-456e-b8aa-ef32f1291562",
   "metadata": {},
   "outputs": [],
   "source": [
    "a = np.arange(16).reshape(4,4)\n",
    "print(a)\n",
    "[b,c] = np.hsplit(a,2)  # divide the col by 2\n",
    "print(b); print(c)"
   ]
  },
  {
   "cell_type": "code",
   "execution_count": null,
   "id": "70c59016-52bb-4360-9802-5b705d3257d2",
   "metadata": {},
   "outputs": [],
   "source": [
    "a = np.arange(16).reshape(4,4)\n",
    "print(a)\n",
    "[b,c] = np.vsplit(a,2)  # divide the row by 2\n",
    "print(b); print(c)"
   ]
  },
  {
   "cell_type": "code",
   "execution_count": 37,
   "id": "6e812739-9e6e-4661-b573-a0273958f063",
   "metadata": {},
   "outputs": [
    {
     "name": "stdout",
     "output_type": "stream",
     "text": [
      "[1 2 3 4 5]\n"
     ]
    }
   ],
   "source": [
    "import numpy as np\n",
    "# Create a NumPy array\n",
    "array = np.array([1, 2, 3, 4, 5])\n",
    "\n",
    "# Save the array to a .npy file\n",
    "np.save('array.npy', array)\n",
    "\n",
    "# Load the array from the .npy file\n",
    "loaded_array = np.load('array.npy')\n",
    "print(loaded_array)\n",
    "# Output: [1 2 3 4 5]"
   ]
  },
  {
   "cell_type": "code",
   "execution_count": 38,
   "id": "86d77e22-5abb-439d-9212-9c9efc202ed3",
   "metadata": {},
   "outputs": [
    {
     "name": "stdout",
     "output_type": "stream",
     "text": [
      "[1 2 3]\n",
      "[4 5 6]\n"
     ]
    }
   ],
   "source": [
    "import numpy as np\n",
    "# Create multiple NumPy arrays\n",
    "array1 = np.array([1, 2, 3])\n",
    "array2 = np.array([4, 5, 6])\n",
    "\n",
    "# Save the arrays to a .npz file\n",
    "np.savez('arrays.npz', array1=array1, array2=array2)\n",
    "\n",
    "# Load the arrays from the .npz file\n",
    "loaded_arrays = np.load('arrays.npz')\n",
    "print(loaded_arrays['array1'])  # Output: [1 2 3]\n",
    "print(loaded_arrays['array2'])  # Output: [4 5 6]"
   ]
  },
  {
   "cell_type": "code",
   "execution_count": null,
   "id": "9a970fc9-61b9-423c-8427-65ecf8965d77",
   "metadata": {},
   "outputs": [],
   "source": []
  }
 ],
 "metadata": {
  "kernelspec": {
   "display_name": "Python 3 (ipykernel)",
   "language": "python",
   "name": "python3"
  },
  "language_info": {
   "codemirror_mode": {
    "name": "ipython",
    "version": 3
   },
   "file_extension": ".py",
   "mimetype": "text/x-python",
   "name": "python",
   "nbconvert_exporter": "python",
   "pygments_lexer": "ipython3",
   "version": "3.11.7"
  }
 },
 "nbformat": 4,
 "nbformat_minor": 5
}
