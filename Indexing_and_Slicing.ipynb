{
 "cells": [
  {
   "cell_type": "code",
   "execution_count": 1,
   "id": "1ebc8a58-ee17-4fbc-9636-228c5589a3c4",
   "metadata": {},
   "outputs": [
    {
     "name": "stdin",
     "output_type": "stream",
     "text": [
      "Enter the number of vehicles : 4\n",
      "Enter the speed of the vehicle 1:  80\n",
      "Enter the speed of the vehicle 2:  78\n",
      "Enter the speed of the vehicle 3:  90\n",
      "Enter the speed of the vehicle 4:  100\n"
     ]
    },
    {
     "name": "stdout",
     "output_type": "stream",
     "text": [
      "[ 80  78  90 100]\n",
      "87.0\n"
     ]
    },
    {
     "data": {
      "text/plain": [
       "dtype('int32')"
      ]
     },
     "execution_count": 1,
     "metadata": {},
     "output_type": "execute_result"
    }
   ],
   "source": [
    "#DIY 7 - 1\n",
    "\n",
    "# Write a Python program that takes the speeds of any vehicle to store it in a NumPy array and calculates the average speed.\n",
    "import numpy as np\n",
    "\n",
    "num_v = int(input(\"Enter the number of vehicles :\"))\n",
    "\n",
    "arr = []\n",
    "for i in range(0,num_v):\n",
    "    speed = int(input(f\"Enter the speed of the vehicle {i+1}: \"))\n",
    "    arr.append(speed)\n",
    "\n",
    "speeds = np.array(arr)\n",
    "aver = np.mean(arr)\n",
    "\n",
    "print(speeds)\n",
    "print(aver)\n",
    "speeds.dtype"
   ]
  },
  {
   "cell_type": "code",
   "execution_count": 5,
   "id": "636a25a0-27f8-453d-9a8d-05912d4ba2df",
   "metadata": {},
   "outputs": [
    {
     "name": "stdout",
     "output_type": "stream",
     "text": [
      "[[26 15  1 22]\n",
      " [ 3  7  6  3]\n",
      " [ 8 29  0  3]\n",
      " [27 23 10  3]\n",
      " [ 9 13 27 17]]\n",
      "\n",
      "\n",
      "First two rows\n",
      "[[26 15  1 22]\n",
      " [ 3  7  6  3]]\n",
      "Last two columns\n",
      "[[ 1 22]\n",
      " [ 6  3]\n",
      " [ 0  3]\n",
      " [10  3]\n",
      " [27 17]]\n",
      "\n",
      "\n",
      "\n",
      "\n",
      "New Array\n",
      "[[[18 14]\n",
      "  [ 5 20]\n",
      "  [10 23]\n",
      "  [14 14]\n",
      "  [ 9 20]]\n",
      "\n",
      " [[ 9  8]\n",
      "  [ 6  2]\n",
      "  [12 13]\n",
      "  [24  9]\n",
      "  [ 1  1]]]\n",
      "\n",
      "\n",
      "First two rows\n",
      "[[[18 14]\n",
      "  [ 5 20]]\n",
      "\n",
      " [[ 9  8]\n",
      "  [ 6  2]]]\n",
      "\n",
      "\n",
      "Last two columns\n",
      "[[14 20 23 14 20]\n",
      " [ 8  2 13  9  1]]\n"
     ]
    },
    {
     "data": {
      "text/plain": [
       "3"
      ]
     },
     "execution_count": 5,
     "metadata": {},
     "output_type": "execute_result"
    }
   ],
   "source": [
    "# Write a Python program to generate a 3-D array with integers of your choice,\n",
    "# perform indexing, and print the first two rows and last two columns of the array\n",
    "\n",
    "import numpy as np\n",
    "import random\n",
    "\n",
    "arr = np.random.randint(0,30,20).reshape(5,4)\n",
    "\n",
    "# arr = np.arange(0,24).reshape(3,4,2)\n",
    "\n",
    "# arr = np.random.random((2,2,2))\n",
    "\n",
    "print(arr)\n",
    "print(\"\\n\")\n",
    "print(\"First two rows\")\n",
    "print(arr[0:2])\n",
    "\n",
    "\n",
    "print(\"Last two columns\")\n",
    "print(arr[:,2:4])\n",
    "arr.ndim\n",
    "\n",
    "print(\"\\n\")\n",
    "print(\"\\n\")\n",
    "\n",
    "\n",
    "# ar = np.random.randint(0,30,20).reshape(2,5,2)\n",
    "arr = np.arange(0,24).reshape(3,4,2)\n",
    "\n",
    "# arr = np.random.random((2,2,2))\n",
    "print(\"New Array\")\n",
    "print(ar)\n",
    "print(\"\\n\")\n",
    "print(\"First two rows\")\n",
    "print(ar[:,0:2,0:2])\n",
    "\n",
    "print(\"\\n\")\n",
    "print(\"Last two columns\")\n",
    "print(ar[:,0:,1])\n",
    "arr.ndim"
   ]
  },
  {
   "cell_type": "code",
   "execution_count": 138,
   "id": "0a6631ba-25e4-418e-8a69-560ab591b700",
   "metadata": {},
   "outputs": [
    {
     "name": "stdout",
     "output_type": "stream",
     "text": [
      "[[ 0  1  2  3  4]\n",
      " [ 5  6  7  8  9]\n",
      " [10 11 12 13 14]\n",
      " [15 16 17 18 19]]\n",
      "\n",
      "\n",
      "[[ 0  5 10 15]\n",
      " [ 1  6 11 16]\n",
      " [ 2  7 12 17]\n",
      " [ 3  8 13 18]\n",
      " [ 4  9 14 19]]\n"
     ]
    }
   ],
   "source": [
    "#DIY 7 - 2\n",
    "# Define a NumPy array with 4*5 dimensions, and swap the array's dimensions to\n",
    "# make it 5*4 using suitable functions.\n",
    "\n",
    "import numpy as np \n",
    "\n",
    "arr = np.arange(0,20).reshape(4,5)\n",
    "print(arr)\n",
    "print(\"\\n\")\n",
    "b = np.transpose(arr)\n",
    "print(b)"
   ]
  },
  {
   "cell_type": "code",
   "execution_count": 140,
   "id": "3a1b88cf-09bc-4995-9349-bde6a2cab97c",
   "metadata": {},
   "outputs": [
    {
     "name": "stdout",
     "output_type": "stream",
     "text": [
      "Array 1:\n",
      "[[1 2 3]\n",
      " [4 5 6]]\n",
      "\n",
      "Array 2:\n",
      "[[ 7  8  9]\n",
      " [10 11 12]]\n",
      "\n",
      "Horizontal Stack (hstack):\n",
      "[[ 1  2  3  7  8  9]\n",
      " [ 4  5  6 10 11 12]]\n",
      "\n",
      "Vertical Stack (vstack):\n",
      "[[ 1  2  3]\n",
      " [ 4  5  6]\n",
      " [ 7  8  9]\n",
      " [10 11 12]]\n",
      "\n",
      "Concatenate along the first axis (axis=0):\n",
      "[[ 1  2  3]\n",
      " [ 4  5  6]\n",
      " [ 7  8  9]\n",
      " [10 11 12]]\n",
      "\n",
      "Concatenate along the second axis (axis=1):\n",
      "[[ 1  2  3  7  8  9]\n",
      " [ 4  5  6 10 11 12]]\n",
      "\n",
      "Horizontal Split (hsplit):\n",
      "Split 1:\n",
      "[[1 2 3]\n",
      " [4 5 6]]\n",
      "Split 2:\n",
      "[[ 7  8  9]\n",
      " [10 11 12]]\n",
      "\n",
      "Vertical Split (vsplit):\n",
      "Split 1:\n",
      "[[1 2 3]\n",
      " [4 5 6]]\n",
      "Split 2:\n",
      "[[ 7  8  9]\n",
      " [10 11 12]]\n"
     ]
    }
   ],
   "source": [
    "# '''Write a Python program to create two 2-dimensional arrays and apply\n",
    "# hstack(), vstack(), concatenate(), and split() functions to\n",
    "# them to get the output as shown below.'''\n",
    "\n",
    "import numpy as np\n",
    "\n",
    "# Create two 2-dimensional arrays\n",
    "array1 = np.array([[1, 2, 3], [4, 5, 6]])\n",
    "array2 = np.array([[7, 8, 9], [10, 11, 12]])\n",
    "\n",
    "print(\"Array 1:\")\n",
    "print(array1)\n",
    "print(\"\\nArray 2:\")\n",
    "print(array2)\n",
    "\n",
    "# Horizontal stacking\n",
    "hstack_result = np.hstack((array1, array2))\n",
    "print(\"\\nHorizontal Stack (hstack):\")\n",
    "print(hstack_result)\n",
    "\n",
    "# Vertical stacking\n",
    "vstack_result = np.vstack((array1, array2))\n",
    "print(\"\\nVertical Stack (vstack):\")\n",
    "print(vstack_result)\n",
    "\n",
    "# Concatenation along the first axis (rows)\n",
    "concat_result_axis0 = np.concatenate((array1, array2), axis=0)\n",
    "print(\"\\nConcatenate along the first axis (axis=0):\")\n",
    "print(concat_result_axis0)\n",
    "\n",
    "# Concatenation along the second axis (columns)\n",
    "concat_result_axis1 = np.concatenate((array1, array2), axis=1)\n",
    "print(\"\\nConcatenate along the second axis (axis=1):\")\n",
    "print(concat_result_axis1)\n",
    "\n",
    "# Split array into multiple sub-arrays horizontally\n",
    "split_result_h = np.hsplit(hstack_result, 2)\n",
    "print(\"\\nHorizontal Split (hsplit):\")\n",
    "for i, arr in enumerate(split_result_h):\n",
    "    print(f\"Split {i + 1}:\")\n",
    "    print(arr)\n",
    "\n",
    "# Split array into multiple sub-arrays vertically\n",
    "split_result_v = np.vsplit(vstack_result, 2)\n",
    "print(\"\\nVertical Split (vsplit):\")\n",
    "for i, arr in enumerate(split_result_v):\n",
    "    print(f\"Split {i + 1}:\")\n",
    "    print(arr)\n"
   ]
  },
  {
   "cell_type": "code",
   "execution_count": 47,
   "id": "bac980d5-ee98-49a9-8433-3908124f1bd2",
   "metadata": {
    "scrolled": true
   },
   "outputs": [
    {
     "name": "stdout",
     "output_type": "stream",
     "text": [
      "New Array\n",
      "[[[ 0  1  2  3]\n",
      "  [ 4  5  6  7]\n",
      "  [ 8  9 10 11]\n",
      "  [12 13 14 15]\n",
      "  [16 17 18 19]]]\n",
      "\n",
      "\n",
      "First two rows\n",
      "[[[0 1 2 3]\n",
      "  [4 5 6 7]]]\n",
      "\n",
      "\n",
      "Last two columns\n",
      "[[[ 2  3]\n",
      "  [ 6  7]\n",
      "  [10 11]\n",
      "  [14 15]\n",
      "  [18 19]]]\n",
      "\n",
      "\n"
     ]
    }
   ],
   "source": [
    "# ar = np.arange(0,24).reshape()\n",
    "# array1 = np.array([[[1, 2, 3], [4, 5, 6]]])\n",
    "# print(array1.shape)\n",
    "# print(array1.ndim)\n",
    "# arr = np.random.random((2,2,2))\n",
    "ar = np.arange(0,20).reshape(1,5,4)\n",
    "print(\"New Array\")\n",
    "print(ar)\n",
    "print(\"\\n\")\n",
    "print(\"First two rows\")\n",
    "print(ar[:,:2])\n",
    "\n",
    "print(\"\\n\")\n",
    "print(\"Last two columns\")\n",
    "print(ar[:,:,2:])\n",
    "\n",
    "\n",
    "print(\"\\n\")\n"
   ]
  },
  {
   "cell_type": "code",
   "execution_count": 75,
   "id": "2f564acf-213a-42f3-a719-71a4971a13e7",
   "metadata": {},
   "outputs": [
    {
     "name": "stdout",
     "output_type": "stream",
     "text": [
      "New Array\n",
      "[[[ 0  1]\n",
      "  [ 2  3]\n",
      "  [ 4  5]\n",
      "  [ 6  7]]\n",
      "\n",
      " [[ 8  9]\n",
      "  [10 11]\n",
      "  [12 13]\n",
      "  [14 15]]\n",
      "\n",
      " [[16 17]\n",
      "  [18 19]\n",
      "  [20 21]\n",
      "  [22 23]]]\n",
      "\n",
      "\n",
      "[[[ 2]\n",
      "  [ 4]\n",
      "  [ 6]]\n",
      "\n",
      " [[10]\n",
      "  [12]\n",
      "  [14]]]\n",
      "\n",
      "\n",
      "(3, 4, 2)\n"
     ]
    }
   ],
   "source": [
    "ar = np.arange(0,24).reshape(3,4,2)\n",
    "\n",
    "# arr = np.random.random((2,2,2))\n",
    "print(\"New Array\")\n",
    "print(ar)\n",
    "print(\"\\n\")\n",
    "print(ar[0:2,1:,0:1])\n",
    "print(\"\\n\")\n",
    "print(ar.shape)"
   ]
  }
 ],
 "metadata": {
  "kernelspec": {
   "display_name": "Python 3 (ipykernel)",
   "language": "python",
   "name": "python3"
  },
  "language_info": {
   "codemirror_mode": {
    "name": "ipython",
    "version": 3
   },
   "file_extension": ".py",
   "mimetype": "text/x-python",
   "name": "python",
   "nbconvert_exporter": "python",
   "pygments_lexer": "ipython3",
   "version": "3.12.4"
  }
 },
 "nbformat": 4,
 "nbformat_minor": 5
}
